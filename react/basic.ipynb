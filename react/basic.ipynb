{
 "cells": [
  {
   "cell_type": "code",
   "execution_count": null,
   "id": "929e32cb",
   "metadata": {},
   "outputs": [],
   "source": [
    "%pip install -q python-dotenv openai"
   ]
  },
  {
   "cell_type": "code",
   "execution_count": 12,
   "id": "cc7651b3",
   "metadata": {},
   "outputs": [],
   "source": [
    "import dotenv\n",
    "dotenv.load_dotenv()\n",
    "import os"
   ]
  },
  {
   "cell_type": "code",
   "execution_count": 13,
   "id": "fe5493ef",
   "metadata": {},
   "outputs": [],
   "source": [
    "system_prompt = \"\"\"\n",
    "you are an AI assistant who can perform the following steps:\n",
    "1. reason through the problem by describing the steps you will take to solve it\n",
    "2. when you need to use the tool, output an action in the format of \"action: {tool_name}\"\n",
    "3. after the tool call, you'll see an observation in the format of \"observation: {result}\"\n",
    "4. continue reasoning and output the final answer in the format of \"final_answer: {result}\"\n",
    "5. end with a conclusion in the format of \"conclusion: {result}\"\n",
    "\"\"\""
   ]
  },
  {
   "cell_type": "code",
   "execution_count": 21,
   "id": "7ee6fc4c",
   "metadata": {},
   "outputs": [],
   "source": [
    "user_prompt = \"\"\"\n",
    "what is the capital of France, and what is the capital of Germany?\"\"\""
   ]
  },
  {
   "cell_type": "code",
   "execution_count": 22,
   "id": "56ee8f05",
   "metadata": {},
   "outputs": [],
   "source": [
    "from openai import OpenAI\n",
    "client = OpenAI(api_key=os.getenv(\"OPENAI_API_KEY\"))\n",
    "\n",
    "completions = client.chat.completions.create(\n",
    "    model=\"gpt-4.1\",\n",
    "    messages=[\n",
    "        {\"role\": \"system\", \"content\": system_prompt},\n",
    "        {\"role\": \"user\", \"content\": user_prompt}\n",
    "    ],\n",
    ")\n"
   ]
  },
  {
   "cell_type": "code",
   "execution_count": 23,
   "id": "484ba33c",
   "metadata": {},
   "outputs": [
    {
     "name": "stdout",
     "output_type": "stream",
     "text": [
      "To answer this question, I need to identify the capital cities of France and Germany. These are common knowledge geography questions.\n",
      "\n",
      "The capital of France is Paris.\n",
      "The capital of Germany is Berlin.\n",
      "\n",
      "final_answer: The capital of France is Paris, and the capital of Germany is Berlin.\n",
      "\n",
      "conclusion: Paris is the capital of France, and Berlin is the capital of Germany.\n"
     ]
    }
   ],
   "source": [
    "print(completions.choices[0].message.content)"
   ]
  },
  {
   "cell_type": "code",
   "execution_count": 25,
   "id": "bea8f976",
   "metadata": {},
   "outputs": [
    {
     "name": "stdout",
     "output_type": "stream",
     "text": [
      "Final Answer: The capital of France is Paris, and the capital of Germany is Berlin.\n",
      "Conclusion: Paris is the capital of France, and Berlin is the capital of Germany.\n"
     ]
    }
   ],
   "source": [
    "import re\n",
    "\n",
    "# Extract the text content from completions\n",
    "text = completions.choices[0].message.content\n",
    "\n",
    "final_answer_match = re.search(r'final_answer:\\s*(.+)', text)\n",
    "conclusion_match = re.search(r'conclusion:\\s*(.+)', text)\n",
    "\n",
    "final_answer = final_answer_match.group(1) if final_answer_match else None\n",
    "conclusion = conclusion_match.group(1) if conclusion_match else None\n",
    "\n",
    "print(\"Final Answer:\", final_answer)\n",
    "print(\"Conclusion:\", conclusion)\n"
   ]
  }
 ],
 "metadata": {
  "kernelspec": {
   "display_name": "Python 3",
   "language": "python",
   "name": "python3"
  },
  "language_info": {
   "codemirror_mode": {
    "name": "ipython",
    "version": 3
   },
   "file_extension": ".py",
   "mimetype": "text/x-python",
   "name": "python",
   "nbconvert_exporter": "python",
   "pygments_lexer": "ipython3",
   "version": "3.11.0"
  }
 },
 "nbformat": 4,
 "nbformat_minor": 5
}
